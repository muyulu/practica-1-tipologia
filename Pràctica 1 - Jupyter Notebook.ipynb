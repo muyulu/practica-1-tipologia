{
 "cells": [
  {
   "cell_type": "markdown",
   "metadata": {},
   "source": [
    "# 0. Càrrega de les llibreries"
   ]
  },
  {
   "cell_type": "code",
   "execution_count": 1,
   "metadata": {},
   "outputs": [],
   "source": [
    "import pandas as pd\n",
    "import requests\n",
    "import math\n",
    "import time\n",
    "import plotly.express as px\n",
    "from bs4 import BeautifulSoup"
   ]
  },
  {
   "cell_type": "markdown",
   "metadata": {},
   "source": [
    "# 1. Web scraping"
   ]
  },
  {
   "cell_type": "markdown",
   "metadata": {},
   "source": [
    "### Funció earthquakes per a obtenir els terratrèmols"
   ]
  },
  {
   "cell_type": "code",
   "execution_count": 2,
   "metadata": {},
   "outputs": [],
   "source": [
    "# function earthquakes\n",
    "\n",
    "def getEarthquakes(start_date, end_date, min_depth, max_depth, min_mag, max_mag, region, min_intens, max_intens, file_name):\n",
    "    \n",
    "    # create the URL\n",
    "    str_web = ('https://www.emsc-csem.org/Earthquake/?filter=yes' +\n",
    "    '&start_date=' + start_date +\n",
    "    '&end_date=' + end_date +\n",
    "    '&min_depth=' + min_depth +\n",
    "    '&max_depth=' + max_depth +\n",
    "    '&min_mag=' + min_mag +\n",
    "    '&max_mag=' + max_mag +\n",
    "    '&region=' + region +\n",
    "    '&min_intens=' + min_intens +\n",
    "    '&max_intens=' + max_intens)\n",
    "    \n",
    "    # User Agent\n",
    "    headers = {\n",
    "    \"Accept\": \"/\",\n",
    "    \"Accept-Encoding\": \"gzip, deflate, br\",\n",
    "    \"Accept-Language\": \"es-MX,es;q=0.8,en-US;q=0.5,en;q=0.3\",\n",
    "    \"Cache-Control\": \"max-age=0\",\n",
    "    \"DNT\": \"1\",\n",
    "    \"Pragma\": \"no-cache\",\n",
    "    \"Upgrade-Insecure-Requests\": \"1\",\n",
    "    \"User-Agent\": \"Mozilla/5.0 (Windows NT 10.0; Win64; x64; rv:81.0) Gecko/20100101 Firefox/81.0\"\n",
    "    }\n",
    "    \n",
    "    page = requests.get(str_web + '&view=1', headers=headers)\n",
    "    #print(str_web + '&view=1')\n",
    "    soup = BeautifulSoup(page.content)\n",
    "\n",
    "    # check for results\n",
    "    no_results_found = soup.body.findAll(text='No results found')\n",
    "\n",
    "    if len(no_results_found) == 1:\n",
    "\n",
    "        print('No results found')\n",
    "\n",
    "    else:\n",
    "\n",
    "        # look for the number of results for the selected input\n",
    "        results_found = soup.body.find(id='content')\n",
    "        results_found = results_found.findAll('tr')[18].td.text.split(' ')[3].strip()\n",
    "        print('results found: ' + results_found, '\\n')\n",
    "\n",
    "        i = math.ceil(int(results_found) / 20)\n",
    "        print('number of loops: ' + str(i), '\\n')\n",
    "\n",
    "        earthquake_list = []\n",
    "        earthquake_id_comp = 0\n",
    "\n",
    "        # loop through pages\n",
    "        for j in range(i):\n",
    "\n",
    "            t0 = time.time() #\n",
    "            \n",
    "            print('loop number: ' + str(j + 1))\n",
    "\n",
    "            # get html from page n\n",
    "            page = requests.get(str_web + '&view=' + str(j + 1))\n",
    "\n",
    "            response_delay = time.time() -t0 #\n",
    "            \n",
    "            # BeautifulSoup content\n",
    "            soup = BeautifulSoup(page.content)\n",
    "\n",
    "            # look for earthquakes list in html\n",
    "            results_list = soup.find(id='tbody')\n",
    "            earthquakes = results_list.find_all('tr', class_=lambda x: x != 'autour' and x != 'black')\n",
    "\n",
    "            # print number of earthquakes found\n",
    "            if j == 0:\n",
    "                print('found: ' + str(len(earthquakes)), '\\n')\n",
    "            else:\n",
    "                print('found: ' + str(len(earthquakes)-1), '\\n')\n",
    "\n",
    "            # loop through earthquakes in every page\n",
    "            for earthquake in earthquakes:\n",
    "\n",
    "                # save all earthquakes' children\n",
    "                children = earthquake.findChildren('td')\n",
    "\n",
    "                # parameter earthquake id\n",
    "                earthquake_id = earthquake['id']\n",
    "\n",
    "                # declare array to save latitude, longitude and magnitude\n",
    "                lat_lon = []\n",
    "\n",
    "                # remove duplicates from each page greater than 1\n",
    "                if earthquake_id_comp != earthquake_id:\n",
    "\n",
    "                    # loop through values of each earthquake\n",
    "                    for child in children:\n",
    "\n",
    "                        # parameter DateTime\n",
    "                        if child['class'][0] == 'tabev6':\n",
    "                            # replace strange characters and divide it in date and time\n",
    "                            dateTime = child.a.text.replace(u'\\xa0', u' ').partition('   ')\n",
    "\n",
    "                            #parameter date\n",
    "                            date = dateTime[0]\n",
    "\n",
    "                            #parameter time\n",
    "                            time_utc = dateTime[2]\n",
    "\n",
    "                        # parameters latitude and longitude (numeric)\n",
    "                        if child['class'][0] == 'tabev1':\n",
    "                            lat_lon.append(child.text)\n",
    "\n",
    "                        # parameters latitude, longitude (cardinal direction) and magnitude\n",
    "                        if child['class'][0] == 'tabev2':\n",
    "                            lat_lon.append(child.text)\n",
    "\n",
    "                        # parameter depth\n",
    "                        if child['class'][0] == 'tabev3':\n",
    "                            depth = child.text\n",
    "\n",
    "                        # parameter magnitude type\n",
    "                        if child['class'][0] == 'tabev5':\n",
    "                            magnitude_type = child.text\n",
    "\n",
    "                        # parameter region\n",
    "                        if child['class'][0] == 'tb_region':\n",
    "                            region = child.text.strip()\n",
    "\n",
    "                        # parameter last update\n",
    "                        if child['class'][0] == 'comment':\n",
    "                            last_update = child.text\n",
    "\n",
    "                    # remove strange characters from array\n",
    "                    lat_lon = [w.replace(u'\\xa0', u' ') for w in lat_lon]\n",
    "\n",
    "                    # parameter latitude\n",
    "                    latitude = lat_lon[0].strip()\n",
    "\n",
    "                    # parameter cardinal direction latitude\n",
    "                    latitude_card = lat_lon[1].strip()\n",
    "                    \n",
    "                    # parameter signed latitude\n",
    "                    \n",
    "                    if latitude_card == 'S':\n",
    "                        signed_lat = -1*float(latitude)\n",
    "                    else:\n",
    "                        signed_lat = float(latitude)\n",
    "                                        \n",
    "                    # parameter longitude\n",
    "                    longitude = lat_lon[2].strip()\n",
    "\n",
    "                    # parameter cardinal direction longitude\n",
    "                    longitude_card = lat_lon[3].strip()\n",
    "                    \n",
    "                    # parameter signed longitude\n",
    "                    \n",
    "                    if longitude_card == 'W':\n",
    "                        signed_lon = -1*float(longitude)\n",
    "                    else:\n",
    "                        signed_lon = float(longitude)\n",
    "\n",
    "                    # parameter magnitude\n",
    "                    magnitude = lat_lon[4].strip()\n",
    "\n",
    "                    # append parameters in array\n",
    "                    earthquake_list.append([\n",
    "                         date\n",
    "                        ,time_utc\n",
    "                        ,latitude\n",
    "                        ,latitude_card\n",
    "                        ,signed_lat\n",
    "                        ,longitude\n",
    "                        ,longitude_card\n",
    "                        ,signed_lon\n",
    "                        ,depth\n",
    "                        ,magnitude_type\n",
    "                        ,magnitude\n",
    "                        ,region\n",
    "                        ,last_update\n",
    "                        ,earthquake_id\n",
    "                    ]) \n",
    "\n",
    "                # save earthquake id from previous iteration to look for duplicates\n",
    "                earthquake_id_comp = earthquake_id\n",
    "                \n",
    "                # hold on to avoid server saturation\n",
    "                time.sleep(2 * response_delay) #\n",
    "        \n",
    "        # generate CSV\n",
    "        df = pd.DataFrame(earthquake_list)\n",
    "        df.to_csv(file_name, sep=';', index=False, header=\n",
    "                ['Date'\n",
    "                ,'Time UTC'\n",
    "                ,'Latitude'\n",
    "                ,'Latitude Cardinal'\n",
    "                ,'Signed Latitude' \n",
    "                ,'Longitude'\n",
    "                ,'Longitude Cardinal'\n",
    "                ,'Signed Longitude'\n",
    "                ,'Depth'\n",
    "                ,'Magnitude Type'\n",
    "                ,'Magnitude'\n",
    "                ,'Region'\n",
    "                ,'Last Update'\n",
    "                ,'Earthquake ID'])\n"
   ]
  },
  {
   "cell_type": "markdown",
   "metadata": {},
   "source": [
    "### Exemple de crida a la funció earthquakes\n",
    "\n",
    "Per a obtenir les dades d'una regió en concret, cal anar a la web per a entendre el format. Per exemple, si es vol obtenir els terratrèmols de l'Espanya peninsular, s'ha d'escriure:\n",
    "\n",
    "#### SPAIN. \n",
    "\n",
    "Si es vol obtenir els terratrèmols de les Illes Balears, cal escriure:\n",
    "\n",
    "#### BALEARIC+ISLANDS,+SPAIN o \n",
    "\n",
    "I per als de les illes Canàries:\n",
    "\n",
    "#### CANARY+ISLANDS+SPAIN+REGION \n",
    "\n",
    "Com es pot comprovar, el format és diferent. \n",
    "\n",
    "Si, en canvi, es vol obtenir els terratrèmols tant de l'Espanya peninsular com de la insular, cal escriure:\n",
    "\n",
    "#### BALEARIC+ISLANDS,+SPAIN|CANARY+ISLANDS,+SPAIN+REGION|SPAIN \n",
    "\n",
    "(s'han de separar les regions amb el símbol \"|\"). \n",
    "\n",
    "Per a d'altres regions, cal anar a la següent pàgina i buscar la regió desitjada per a conèixer el format requerit:\n",
    "\n",
    "https://www.emsc-csem.org/Earthquake/?filter=yes"
   ]
  },
  {
   "cell_type": "code",
   "execution_count": 3,
   "metadata": {},
   "outputs": [
    {
     "name": "stdout",
     "output_type": "stream",
     "text": [
      "results found: 174 \n",
      "\n",
      "number of loops: 9 \n",
      "\n",
      "loop number: 1\n",
      "found: 20 \n",
      "\n",
      "loop number: 2\n",
      "found: 20 \n",
      "\n",
      "loop number: 3\n",
      "found: 20 \n",
      "\n",
      "loop number: 4\n",
      "found: 20 \n",
      "\n",
      "loop number: 5\n",
      "found: 20 \n",
      "\n",
      "loop number: 6\n",
      "found: 20 \n",
      "\n",
      "loop number: 7\n",
      "found: 20 \n",
      "\n",
      "loop number: 8\n",
      "found: 20 \n",
      "\n",
      "loop number: 9\n",
      "found: 14 \n",
      "\n"
     ]
    }
   ],
   "source": [
    "start_date = '2020-08-01'\n",
    "end_date = '2020-10-30'\n",
    "min_depth = ''\n",
    "max_depth = ''\n",
    "min_mag = ''\n",
    "max_mag = ''\n",
    "region = 'BALEARIC+ISLANDS,+SPAIN|CANARY+ISLANDS,+SPAIN+REGION|SPAIN'\n",
    "min_intens = ''\n",
    "max_intens = ''\n",
    "\n",
    "file_name = 'earthquakes-spain-aug-oct-2020.csv'\n",
    "\n",
    "getEarthquakes(start_date, end_date, min_depth, max_depth, min_mag, max_mag, region, min_intens, max_intens, file_name)"
   ]
  },
  {
   "cell_type": "markdown",
   "metadata": {},
   "source": [
    "# Visualització"
   ]
  },
  {
   "cell_type": "code",
   "execution_count": 5,
   "metadata": {},
   "outputs": [
    {
     "data": {
      "application/vnd.plotly.v1+json": {
       "config": {
        "plotlyServerURL": "https://plot.ly"
       },
       "data": [
        {
         "customdata": [
          [
           "SPAIN",
           -4.03,
           37.36,
           2.8
          ],
          [
           "SPAIN",
           -3.25,
           37.89,
           2
          ],
          [
           "CANARY ISLANDS, SPAIN REGION",
           -16.22,
           28.8,
           2.3
          ],
          [
           "SPAIN",
           -7.69,
           42.28,
           2.1
          ],
          [
           "CANARY ISLANDS, SPAIN REGION",
           -16.07,
           29.19,
           2.6
          ],
          [
           "SPAIN",
           -7.22,
           42.78,
           2.6
          ],
          [
           "SPAIN",
           -0.28,
           39.39,
           2.3
          ],
          [
           "CANARY ISLANDS, SPAIN REGION",
           -18.1,
           27.97,
           2.7
          ],
          [
           "SPAIN",
           -3.86,
           37.86,
           2
          ],
          [
           "SPAIN",
           -3.23,
           37.89,
           2.4
          ],
          [
           "CANARY ISLANDS, SPAIN REGION",
           -16.25,
           28.1,
           2.1
          ],
          [
           "SPAIN",
           -3.89,
           37.9,
           2.5
          ],
          [
           "SPAIN",
           -3.84,
           37.89,
           2.3
          ],
          [
           "CANARY ISLANDS, SPAIN REGION",
           -15.24,
           28.3,
           2.6
          ],
          [
           "SPAIN",
           -1.54,
           39.66,
           2.4
          ],
          [
           "CANARY ISLANDS, SPAIN REGION",
           -16.26,
           28.11,
           2
          ],
          [
           "SPAIN",
           -0.99,
           40.47,
           2
          ],
          [
           "SPAIN",
           -3.23,
           37.91,
           2.2
          ],
          [
           "SPAIN",
           -8.02,
           42.44,
           2.9
          ],
          [
           "SPAIN",
           0.99,
           40.65,
           2.2
          ],
          [
           "SPAIN",
           -3.25,
           37.91,
           2.5
          ],
          [
           "SPAIN",
           -3.72,
           37.22,
           2.2
          ],
          [
           "SPAIN",
           -8.56,
           42.36,
           2.1
          ],
          [
           "CANARY ISLANDS, SPAIN REGION",
           -18.46,
           28.66,
           2.4
          ],
          [
           "CANARY ISLANDS, SPAIN REGION",
           -16.12,
           28.08,
           2.3
          ],
          [
           "CANARY ISLANDS, SPAIN REGION",
           -18.24,
           27.67,
           2.1
          ],
          [
           "CANARY ISLANDS, SPAIN REGION",
           -18.1,
           27.64,
           2.4
          ],
          [
           "SPAIN",
           -2.98,
           40.35,
           2.1
          ],
          [
           "SPAIN",
           -6.41,
           39.74,
           2.1
          ],
          [
           "SPAIN",
           -3.22,
           37.89,
           2
          ],
          [
           "SPAIN",
           -3.24,
           37.9,
           2
          ],
          [
           "SPAIN",
           -3.33,
           37.98,
           2.4
          ],
          [
           "SPAIN",
           -8.66,
           42.21,
           2.2
          ],
          [
           "SPAIN",
           -3.32,
           37.96,
           2.1
          ],
          [
           "SPAIN",
           -3.33,
           37.98,
           2.4
          ],
          [
           "SPAIN",
           -3.83,
           37.01,
           2.6
          ],
          [
           "SPAIN",
           -0.21,
           38.91,
           2.2
          ],
          [
           "SPAIN",
           -3.32,
           37.96,
           2.1
          ],
          [
           "SPAIN",
           -3.32,
           37.97,
           2.3
          ],
          [
           "CANARY ISLANDS, SPAIN REGION",
           -16.83,
           28.14,
           2.1
          ],
          [
           "SPAIN",
           -6.51,
           43.12,
           2.6
          ],
          [
           "CANARY ISLANDS, SPAIN REGION",
           -15.18,
           27.58,
           2.6
          ],
          [
           "CANARY ISLANDS, SPAIN REGION",
           -18.19,
           28.58,
           2.1
          ],
          [
           "CANARY ISLANDS, SPAIN REGION",
           -17.88,
           28.57,
           2
          ],
          [
           "CANARY ISLANDS, SPAIN REGION",
           -17.72,
           28.54,
           2.1
          ],
          [
           "CANARY ISLANDS, SPAIN REGION",
           -18.26,
           27.76,
           2.6
          ],
          [
           "SPAIN",
           -3.22,
           37.91,
           2.1
          ],
          [
           "SPAIN",
           -3.25,
           37.89,
           2.7
          ],
          [
           "SPAIN",
           -0.58,
           40.02,
           2
          ],
          [
           "SPAIN",
           -3.26,
           37.88,
           3.2
          ],
          [
           "SPAIN",
           -8.46,
           42.13,
           2.1
          ],
          [
           "CANARY ISLANDS, SPAIN REGION",
           -16.19,
           28.16,
           2.9
          ],
          [
           "SPAIN",
           -0.56,
           40.02,
           2.1
          ],
          [
           "SPAIN",
           -0.51,
           39.22,
           2.4
          ],
          [
           "CANARY ISLANDS, SPAIN REGION",
           -15.23,
           27.92,
           2.1
          ],
          [
           "SPAIN",
           -3.84,
           37.08,
           2.1
          ],
          [
           "SPAIN",
           -3.22,
           37.92,
           2.1
          ],
          [
           "CANARY ISLANDS, SPAIN REGION",
           -16.26,
           28.02,
           2.1
          ],
          [
           "CANARY ISLANDS, SPAIN REGION",
           -16.22,
           28.14,
           2.1
          ],
          [
           "BALEARIC ISLANDS, SPAIN",
           1.05,
           40.83,
           2
          ],
          [
           "SPAIN",
           -2.86,
           40.41,
           2.4
          ],
          [
           "SPAIN",
           -3.25,
           37.9,
           2.1
          ],
          [
           "CANARY ISLANDS, SPAIN REGION",
           -15.25,
           27.76,
           2.2
          ],
          [
           "SPAIN",
           -8.1,
           42.65,
           2.2
          ],
          [
           "CANARY ISLANDS, SPAIN REGION",
           -16.24,
           28.11,
           2.1
          ],
          [
           "SPAIN",
           -3.72,
           37.42,
           2.2
          ],
          [
           "CANARY ISLANDS, SPAIN REGION",
           -16.32,
           28.06,
           2
          ],
          [
           "SPAIN",
           -7.24,
           42.15,
           2.7
          ],
          [
           "SPAIN",
           -7.96,
           42.65,
           2
          ],
          [
           "CANARY ISLANDS, SPAIN REGION",
           -14.68,
           28.94,
           2.6
          ],
          [
           "SPAIN",
           -5.59,
           43.36,
           2.1
          ],
          [
           "CANARY ISLANDS, SPAIN REGION",
           -18.1,
           27.65,
           2.4
          ],
          [
           "SPAIN",
           -1.88,
           41.08,
           2.5
          ],
          [
           "SPAIN",
           -6.57,
           43.1,
           2.1
          ],
          [
           "CANARY ISLANDS, SPAIN REGION",
           -17.99,
           27.69,
           2
          ],
          [
           "SPAIN",
           2.76,
           41.85,
           2
          ],
          [
           "CANARY ISLANDS, SPAIN REGION",
           -16.19,
           28.11,
           2
          ],
          [
           "SPAIN",
           -4.08,
           38.43,
           2.7
          ],
          [
           "CANARY ISLANDS, SPAIN REGION",
           -18,
           27.69,
           2.3
          ],
          [
           "SPAIN",
           -7.81,
           42.13,
           2.2
          ],
          [
           "SPAIN",
           -9.35,
           42.61,
           2.1
          ],
          [
           "SPAIN",
           -5.34,
           37.06,
           2.3
          ],
          [
           "CANARY ISLANDS, SPAIN REGION",
           -15.37,
           27.88,
           2.2
          ],
          [
           "SPAIN",
           -8.53,
           42.94,
           2.6
          ],
          [
           "CANARY ISLANDS, SPAIN REGION",
           -18.2,
           27.73,
           2.7
          ],
          [
           "CANARY ISLANDS, SPAIN REGION",
           -18.21,
           27.77,
           2.7
          ],
          [
           "CANARY ISLANDS, SPAIN REGION",
           -15.32,
           28.28,
           2.3
          ],
          [
           "SPAIN",
           -0.93,
           37.5,
           2.1
          ],
          [
           "CANARY ISLANDS, SPAIN REGION",
           -14.09,
           28.52,
           2.6
          ],
          [
           "CANARY ISLANDS, SPAIN REGION",
           -17.6,
           29.12,
           2.5
          ],
          [
           "CANARY ISLANDS, SPAIN REGION",
           -18.87,
           28.71,
           2.8
          ],
          [
           "SPAIN",
           -3.6,
           37.51,
           2
          ],
          [
           "CANARY ISLANDS, SPAIN REGION",
           -15.02,
           28.49,
           2.4
          ],
          [
           "CANARY ISLANDS, SPAIN REGION",
           -18.09,
           27.67,
           2.3
          ],
          [
           "SPAIN",
           -3.68,
           37.69,
           2.3
          ],
          [
           "CANARY ISLANDS, SPAIN REGION",
           -17.12,
           27.65,
           2.5
          ],
          [
           "CANARY ISLANDS, SPAIN REGION",
           -18.06,
           27.71,
           2.5
          ],
          [
           "SPAIN",
           -3.23,
           38.14,
           2
          ],
          [
           "CANARY ISLANDS, SPAIN REGION",
           -18.26,
           27.77,
           2.3
          ],
          [
           "SPAIN",
           -4.39,
           37.73,
           2.3
          ],
          [
           "SPAIN",
           -1.74,
           37.35,
           2.1
          ],
          [
           "CANARY ISLANDS, SPAIN REGION",
           -13.98,
           28.06,
           2.2
          ],
          [
           "SPAIN",
           -0.12,
           38.09,
           2
          ],
          [
           "CANARY ISLANDS, SPAIN REGION",
           -17.94,
           27.48,
           2.6
          ],
          [
           "SPAIN",
           -3.82,
           37.36,
           2.3
          ],
          [
           "SPAIN",
           -2.94,
           39.12,
           2.3
          ],
          [
           "SPAIN",
           -5.23,
           37.08,
           2
          ],
          [
           "SPAIN",
           0.76,
           40.14,
           2.1
          ],
          [
           "SPAIN",
           -1.5,
           37.61,
           2
          ],
          [
           "SPAIN",
           -0.6,
           38.31,
           2.1
          ],
          [
           "CANARY ISLANDS, SPAIN REGION",
           -14.68,
           29.42,
           2.5
          ],
          [
           "SPAIN",
           -0.02,
           37.95,
           3.6
          ],
          [
           "SPAIN",
           3.71,
           41.93,
           3.7
          ],
          [
           "CANARY ISLANDS, SPAIN REGION",
           -14.46,
           29.17,
           2.4
          ],
          [
           "CANARY ISLANDS, SPAIN REGION",
           -16.42,
           30.09,
           3
          ],
          [
           "SPAIN",
           -1.9,
           38.45,
           2
          ],
          [
           "SPAIN",
           -3.31,
           38.94,
           2
          ],
          [
           "SPAIN",
           -5.31,
           37.01,
           2.1
          ],
          [
           "CANARY ISLANDS, SPAIN REGION",
           -18.03,
           27.65,
           2.1
          ],
          [
           "SPAIN",
           -0.37,
           40.48,
           2
          ],
          [
           "SPAIN",
           2.53,
           41.84,
           3.1
          ],
          [
           "CANARY ISLANDS, SPAIN REGION",
           -15.44,
           28.82,
           2.4
          ],
          [
           "CANARY ISLANDS, SPAIN REGION",
           -17.04,
           29.01,
           2.5
          ],
          [
           "SPAIN",
           -7.24,
           42.82,
           2.4
          ],
          [
           "SPAIN",
           -7.22,
           42.82,
           2.3
          ],
          [
           "SPAIN",
           -7.22,
           42.82,
           2
          ],
          [
           "SPAIN",
           0.02,
           39.36,
           2
          ],
          [
           "SPAIN",
           -5.04,
           42.91,
           2.3
          ],
          [
           "SPAIN",
           -5.03,
           42.92,
           2.1
          ],
          [
           "SPAIN",
           -3.31,
           37.79,
           2.2
          ],
          [
           "CANARY ISLANDS, SPAIN REGION",
           -18.31,
           27.74,
           2.3
          ],
          [
           "SPAIN",
           -3.23,
           39.87,
           2.3
          ],
          [
           "CANARY ISLANDS, SPAIN REGION",
           -18.23,
           27.71,
           3
          ],
          [
           "CANARY ISLANDS, SPAIN REGION",
           -18.26,
           27.75,
           2.6
          ],
          [
           "CANARY ISLANDS, SPAIN REGION",
           -18.26,
           27.72,
           2.1
          ],
          [
           "CANARY ISLANDS, SPAIN REGION",
           -18.04,
           27.9,
           3.2
          ],
          [
           "CANARY ISLANDS, SPAIN REGION",
           -18.19,
           27.7,
           2.7
          ],
          [
           "CANARY ISLANDS, SPAIN REGION",
           -15.26,
           28.13,
           2.5
          ],
          [
           "CANARY ISLANDS, SPAIN REGION",
           -17.75,
           28.62,
           2.4
          ],
          [
           "SPAIN",
           -8.03,
           42.43,
           2.1
          ],
          [
           "SPAIN",
           -6.31,
           42.55,
           2
          ],
          [
           "SPAIN",
           -4.21,
           37.51,
           2.1
          ],
          [
           "CANARY ISLANDS, SPAIN REGION",
           -18.15,
           27.83,
           2.1
          ],
          [
           "SPAIN",
           -1.08,
           40.49,
           2.2
          ],
          [
           "SPAIN",
           -1.15,
           39.67,
           2.2
          ],
          [
           "CANARY ISLANDS, SPAIN REGION",
           -16.51,
           28.41,
           2
          ],
          [
           "CANARY ISLANDS, SPAIN REGION",
           -15.72,
           27.92,
           2.1
          ],
          [
           "CANARY ISLANDS, SPAIN REGION",
           -15.27,
           27.78,
           3
          ],
          [
           "CANARY ISLANDS, SPAIN REGION",
           -16.69,
           29.61,
           2.7
          ],
          [
           "SPAIN",
           3.09,
           41.73,
           2.4
          ],
          [
           "SPAIN",
           -0.61,
           39.16,
           2.3
          ],
          [
           "SPAIN",
           -7.43,
           43.36,
           2.1
          ],
          [
           "SPAIN",
           0.17,
           40.2,
           2
          ],
          [
           "SPAIN",
           -2.99,
           39.33,
           2.5
          ],
          [
           "SPAIN",
           -2.98,
           39.34,
           2.7
          ],
          [
           "CANARY ISLANDS, SPAIN REGION",
           -17.97,
           27.6,
           2.8
          ],
          [
           "CANARY ISLANDS, SPAIN REGION",
           -15.01,
           28.18,
           2.2
          ],
          [
           "CANARY ISLANDS, SPAIN REGION",
           -18.09,
           28.58,
           2.3
          ],
          [
           "SPAIN",
           -0.56,
           39.12,
           3
          ],
          [
           "SPAIN",
           -0.6,
           39.14,
           2.9
          ],
          [
           "SPAIN",
           -0.49,
           38.96,
           2.2
          ],
          [
           "SPAIN",
           -0.48,
           38.96,
           2.7
          ],
          [
           "SPAIN",
           -1.13,
           37.87,
           2
          ],
          [
           "SPAIN",
           -3.59,
           37.03,
           2
          ],
          [
           "SPAIN",
           -3.54,
           37.11,
           2.1
          ],
          [
           "SPAIN",
           -7.09,
           42.98,
           2
          ],
          [
           "SPAIN",
           -3.63,
           37.08,
           2.5
          ],
          [
           "SPAIN",
           -1.6,
           38.44,
           2
          ],
          [
           "CANARY ISLANDS, SPAIN REGION",
           -17.81,
           28.54,
           2
          ],
          [
           "CANARY ISLANDS, SPAIN REGION",
           -16.18,
           28.2,
           2.1
          ],
          [
           "SPAIN",
           -4.07,
           37.41,
           2
          ],
          [
           "CANARY ISLANDS, SPAIN REGION",
           -17.8,
           28.53,
           2
          ],
          [
           "CANARY ISLANDS, SPAIN REGION",
           -17.93,
           28.48,
           2.3
          ],
          [
           "CANARY ISLANDS, SPAIN REGION",
           -16.22,
           28.09,
           2.3
          ]
         ],
         "geo": "geo",
         "hovertemplate": "size=%{marker.size}<br>Signed Latitude=%{customdata[2]}<br>Signed Longitude=%{customdata[1]}<br>Region=%{customdata[0]}<br>Magnitude=%{customdata[3]}<extra></extra>",
         "lat": [
          37.36,
          37.89,
          28.8,
          42.28,
          29.19,
          42.78,
          39.39,
          27.97,
          37.86,
          37.89,
          28.1,
          37.9,
          37.89,
          28.3,
          39.66,
          28.11,
          40.47,
          37.91,
          42.44,
          40.65,
          37.91,
          37.22,
          42.36,
          28.66,
          28.08,
          27.67,
          27.64,
          40.35,
          39.74,
          37.89,
          37.9,
          37.98,
          42.21,
          37.96,
          37.98,
          37.01,
          38.91,
          37.96,
          37.97,
          28.14,
          43.12,
          27.58,
          28.58,
          28.57,
          28.54,
          27.76,
          37.91,
          37.89,
          40.02,
          37.88,
          42.13,
          28.16,
          40.02,
          39.22,
          27.92,
          37.08,
          37.92,
          28.02,
          28.14,
          40.83,
          40.41,
          37.9,
          27.76,
          42.65,
          28.11,
          37.42,
          28.06,
          42.15,
          42.65,
          28.94,
          43.36,
          27.65,
          41.08,
          43.1,
          27.69,
          41.85,
          28.11,
          38.43,
          27.69,
          42.13,
          42.61,
          37.06,
          27.88,
          42.94,
          27.73,
          27.77,
          28.28,
          37.5,
          28.52,
          29.12,
          28.71,
          37.51,
          28.49,
          27.67,
          37.69,
          27.65,
          27.71,
          38.14,
          27.77,
          37.73,
          37.35,
          28.06,
          38.09,
          27.48,
          37.36,
          39.12,
          37.08,
          40.14,
          37.61,
          38.31,
          29.42,
          37.95,
          41.93,
          29.17,
          30.09,
          38.45,
          38.94,
          37.01,
          27.65,
          40.48,
          41.84,
          28.82,
          29.01,
          42.82,
          42.82,
          42.82,
          39.36,
          42.91,
          42.92,
          37.79,
          27.74,
          39.87,
          27.71,
          27.75,
          27.72,
          27.9,
          27.7,
          28.13,
          28.62,
          42.43,
          42.55,
          37.51,
          27.83,
          40.49,
          39.67,
          28.41,
          27.92,
          27.78,
          29.61,
          41.73,
          39.16,
          43.36,
          40.2,
          39.33,
          39.34,
          27.6,
          28.18,
          28.58,
          39.12,
          39.14,
          38.96,
          38.96,
          37.87,
          37.03,
          37.11,
          42.98,
          37.08,
          38.44,
          28.54,
          28.2,
          37.41,
          28.53,
          28.48,
          28.09
         ],
         "legendgroup": "",
         "lon": [
          -4.03,
          -3.25,
          -16.22,
          -7.69,
          -16.07,
          -7.22,
          -0.28,
          -18.1,
          -3.86,
          -3.23,
          -16.25,
          -3.89,
          -3.84,
          -15.24,
          -1.54,
          -16.26,
          -0.99,
          -3.23,
          -8.02,
          0.99,
          -3.25,
          -3.72,
          -8.56,
          -18.46,
          -16.12,
          -18.24,
          -18.1,
          -2.98,
          -6.41,
          -3.22,
          -3.24,
          -3.33,
          -8.66,
          -3.32,
          -3.33,
          -3.83,
          -0.21,
          -3.32,
          -3.32,
          -16.83,
          -6.51,
          -15.18,
          -18.19,
          -17.88,
          -17.72,
          -18.26,
          -3.22,
          -3.25,
          -0.58,
          -3.26,
          -8.46,
          -16.19,
          -0.56,
          -0.51,
          -15.23,
          -3.84,
          -3.22,
          -16.26,
          -16.22,
          1.05,
          -2.86,
          -3.25,
          -15.25,
          -8.1,
          -16.24,
          -3.72,
          -16.32,
          -7.24,
          -7.96,
          -14.68,
          -5.59,
          -18.1,
          -1.88,
          -6.57,
          -17.99,
          2.76,
          -16.19,
          -4.08,
          -18,
          -7.81,
          -9.35,
          -5.34,
          -15.37,
          -8.53,
          -18.2,
          -18.21,
          -15.32,
          -0.93,
          -14.09,
          -17.6,
          -18.87,
          -3.6,
          -15.02,
          -18.09,
          -3.68,
          -17.12,
          -18.06,
          -3.23,
          -18.26,
          -4.39,
          -1.74,
          -13.98,
          -0.12,
          -17.94,
          -3.82,
          -2.94,
          -5.23,
          0.76,
          -1.5,
          -0.6,
          -14.68,
          -0.02,
          3.71,
          -14.46,
          -16.42,
          -1.9,
          -3.31,
          -5.31,
          -18.03,
          -0.37,
          2.53,
          -15.44,
          -17.04,
          -7.24,
          -7.22,
          -7.22,
          0.02,
          -5.04,
          -5.03,
          -3.31,
          -18.31,
          -3.23,
          -18.23,
          -18.26,
          -18.26,
          -18.04,
          -18.19,
          -15.26,
          -17.75,
          -8.03,
          -6.31,
          -4.21,
          -18.15,
          -1.08,
          -1.15,
          -16.51,
          -15.72,
          -15.27,
          -16.69,
          3.09,
          -0.61,
          -7.43,
          0.17,
          -2.99,
          -2.98,
          -17.97,
          -15.01,
          -18.09,
          -0.56,
          -0.6,
          -0.49,
          -0.48,
          -1.13,
          -3.59,
          -3.54,
          -7.09,
          -3.63,
          -1.6,
          -17.81,
          -16.18,
          -4.07,
          -17.8,
          -17.93,
          -16.22
         ],
         "marker": {
          "color": "#636efa",
          "size": [
           16.136841736657672,
           7.290000000000001,
           9.820569140064718,
           8.051260985476235,
           13.229571774319822,
           13.229571774319822,
           9.820569140064718,
           14.611074771075279,
           7.290000000000001,
           10.846085757554864,
           8.051260985476235,
           11.978692332637985,
           9.820569140064718,
           13.229571774319822,
           10.846085757554864,
           7.290000000000001,
           7.290000000000001,
           8.892016935013956,
           17.821937490144922,
           8.892016935013956,
           11.978692332637985,
           8.892016935013956,
           8.051260985476235,
           10.846085757554864,
           9.820569140064718,
           8.051260985476235,
           10.846085757554864,
           8.051260985476235,
           8.051260985476235,
           7.290000000000001,
           7.290000000000001,
           10.846085757554864,
           8.892016935013956,
           8.051260985476235,
           10.846085757554864,
           13.229571774319822,
           8.892016935013956,
           8.051260985476235,
           9.820569140064718,
           8.051260985476235,
           13.229571774319822,
           13.229571774319822,
           8.051260985476235,
           7.290000000000001,
           8.051260985476235,
           13.229571774319822,
           8.051260985476235,
           14.611074771075279,
           7.290000000000001,
           24.008445724537683,
           8.051260985476235,
           17.821937490144922,
           8.051260985476235,
           10.846085757554864,
           8.051260985476235,
           8.051260985476235,
           8.051260985476235,
           8.051260985476235,
           8.051260985476235,
           7.290000000000001,
           10.846085757554864,
           8.051260985476235,
           8.892016935013956,
           8.892016935013956,
           8.051260985476235,
           8.892016935013956,
           7.290000000000001,
           14.611074771075279,
           7.290000000000001,
           13.229571774319822,
           8.051260985476235,
           10.846085757554864,
           11.978692332637985,
           8.051260985476235,
           7.290000000000001,
           7.290000000000001,
           7.290000000000001,
           14.611074771075279,
           9.820569140064718,
           8.892016935013956,
           8.051260985476235,
           9.820569140064718,
           8.892016935013956,
           13.229571774319822,
           14.611074771075279,
           14.611074771075279,
           9.820569140064718,
           8.051260985476235,
           13.229571774319822,
           11.978692332637985,
           16.136841736657672,
           7.290000000000001,
           10.846085757554864,
           9.820569140064718,
           9.820569140064718,
           11.978692332637985,
           11.978692332637985,
           7.290000000000001,
           9.820569140064718,
           9.820569140064718,
           8.051260985476235,
           8.892016935013956,
           7.290000000000001,
           13.229571774319822,
           9.820569140064718,
           9.820569140064718,
           7.290000000000001,
           8.051260985476235,
           7.290000000000001,
           8.051260985476235,
           11.978692332637985,
           35.719843790663525,
           39.44990188190325,
           10.846085757554864,
           19.683000000000003,
           7.290000000000001,
           7.290000000000001,
           8.051260985476235,
           8.051260985476235,
           7.290000000000001,
           21.738404660785836,
           10.846085757554864,
           11.978692332637985,
           10.846085757554864,
           9.820569140064718,
           7.290000000000001,
           7.290000000000001,
           9.820569140064718,
           8.051260985476235,
           8.892016935013956,
           9.820569140064718,
           9.820569140064718,
           19.683000000000003,
           13.229571774319822,
           8.051260985476235,
           24.008445724537683,
           14.611074771075279,
           11.978692332637985,
           10.846085757554864,
           8.051260985476235,
           7.290000000000001,
           8.051260985476235,
           8.051260985476235,
           8.892016935013956,
           8.892016935013956,
           7.290000000000001,
           8.051260985476235,
           19.683000000000003,
           14.611074771075279,
           10.846085757554864,
           9.820569140064718,
           8.051260985476235,
           7.290000000000001,
           11.978692332637985,
           14.611074771075279,
           16.136841736657672,
           8.892016935013956,
           9.820569140064718,
           19.683000000000003,
           17.821937490144922,
           8.892016935013956,
           14.611074771075279,
           7.290000000000001,
           7.290000000000001,
           8.051260985476235,
           7.290000000000001,
           11.978692332637985,
           7.290000000000001,
           7.290000000000001,
           8.051260985476235,
           7.290000000000001,
           7.290000000000001,
           9.820569140064718,
           9.820569140064718
          ],
          "sizemode": "area",
          "sizeref": 0.09862475470475812
         },
         "name": "",
         "showlegend": false,
         "type": "scattergeo"
        }
       ],
       "layout": {
        "geo": {
         "center": {},
         "domain": {
          "x": [
           0,
           1
          ],
          "y": [
           0,
           1
          ]
         },
         "projection": {
          "type": "orthographic"
         }
        },
        "legend": {
         "itemsizing": "constant",
         "tracegroupgap": 0
        },
        "margin": {
         "t": 60
        },
        "template": {
         "data": {
          "bar": [
           {
            "error_x": {
             "color": "#2a3f5f"
            },
            "error_y": {
             "color": "#2a3f5f"
            },
            "marker": {
             "line": {
              "color": "#E5ECF6",
              "width": 0.5
             }
            },
            "type": "bar"
           }
          ],
          "barpolar": [
           {
            "marker": {
             "line": {
              "color": "#E5ECF6",
              "width": 0.5
             }
            },
            "type": "barpolar"
           }
          ],
          "carpet": [
           {
            "aaxis": {
             "endlinecolor": "#2a3f5f",
             "gridcolor": "white",
             "linecolor": "white",
             "minorgridcolor": "white",
             "startlinecolor": "#2a3f5f"
            },
            "baxis": {
             "endlinecolor": "#2a3f5f",
             "gridcolor": "white",
             "linecolor": "white",
             "minorgridcolor": "white",
             "startlinecolor": "#2a3f5f"
            },
            "type": "carpet"
           }
          ],
          "choropleth": [
           {
            "colorbar": {
             "outlinewidth": 0,
             "ticks": ""
            },
            "type": "choropleth"
           }
          ],
          "contour": [
           {
            "colorbar": {
             "outlinewidth": 0,
             "ticks": ""
            },
            "colorscale": [
             [
              0,
              "#0d0887"
             ],
             [
              0.1111111111111111,
              "#46039f"
             ],
             [
              0.2222222222222222,
              "#7201a8"
             ],
             [
              0.3333333333333333,
              "#9c179e"
             ],
             [
              0.4444444444444444,
              "#bd3786"
             ],
             [
              0.5555555555555556,
              "#d8576b"
             ],
             [
              0.6666666666666666,
              "#ed7953"
             ],
             [
              0.7777777777777778,
              "#fb9f3a"
             ],
             [
              0.8888888888888888,
              "#fdca26"
             ],
             [
              1,
              "#f0f921"
             ]
            ],
            "type": "contour"
           }
          ],
          "contourcarpet": [
           {
            "colorbar": {
             "outlinewidth": 0,
             "ticks": ""
            },
            "type": "contourcarpet"
           }
          ],
          "heatmap": [
           {
            "colorbar": {
             "outlinewidth": 0,
             "ticks": ""
            },
            "colorscale": [
             [
              0,
              "#0d0887"
             ],
             [
              0.1111111111111111,
              "#46039f"
             ],
             [
              0.2222222222222222,
              "#7201a8"
             ],
             [
              0.3333333333333333,
              "#9c179e"
             ],
             [
              0.4444444444444444,
              "#bd3786"
             ],
             [
              0.5555555555555556,
              "#d8576b"
             ],
             [
              0.6666666666666666,
              "#ed7953"
             ],
             [
              0.7777777777777778,
              "#fb9f3a"
             ],
             [
              0.8888888888888888,
              "#fdca26"
             ],
             [
              1,
              "#f0f921"
             ]
            ],
            "type": "heatmap"
           }
          ],
          "heatmapgl": [
           {
            "colorbar": {
             "outlinewidth": 0,
             "ticks": ""
            },
            "colorscale": [
             [
              0,
              "#0d0887"
             ],
             [
              0.1111111111111111,
              "#46039f"
             ],
             [
              0.2222222222222222,
              "#7201a8"
             ],
             [
              0.3333333333333333,
              "#9c179e"
             ],
             [
              0.4444444444444444,
              "#bd3786"
             ],
             [
              0.5555555555555556,
              "#d8576b"
             ],
             [
              0.6666666666666666,
              "#ed7953"
             ],
             [
              0.7777777777777778,
              "#fb9f3a"
             ],
             [
              0.8888888888888888,
              "#fdca26"
             ],
             [
              1,
              "#f0f921"
             ]
            ],
            "type": "heatmapgl"
           }
          ],
          "histogram": [
           {
            "marker": {
             "colorbar": {
              "outlinewidth": 0,
              "ticks": ""
             }
            },
            "type": "histogram"
           }
          ],
          "histogram2d": [
           {
            "colorbar": {
             "outlinewidth": 0,
             "ticks": ""
            },
            "colorscale": [
             [
              0,
              "#0d0887"
             ],
             [
              0.1111111111111111,
              "#46039f"
             ],
             [
              0.2222222222222222,
              "#7201a8"
             ],
             [
              0.3333333333333333,
              "#9c179e"
             ],
             [
              0.4444444444444444,
              "#bd3786"
             ],
             [
              0.5555555555555556,
              "#d8576b"
             ],
             [
              0.6666666666666666,
              "#ed7953"
             ],
             [
              0.7777777777777778,
              "#fb9f3a"
             ],
             [
              0.8888888888888888,
              "#fdca26"
             ],
             [
              1,
              "#f0f921"
             ]
            ],
            "type": "histogram2d"
           }
          ],
          "histogram2dcontour": [
           {
            "colorbar": {
             "outlinewidth": 0,
             "ticks": ""
            },
            "colorscale": [
             [
              0,
              "#0d0887"
             ],
             [
              0.1111111111111111,
              "#46039f"
             ],
             [
              0.2222222222222222,
              "#7201a8"
             ],
             [
              0.3333333333333333,
              "#9c179e"
             ],
             [
              0.4444444444444444,
              "#bd3786"
             ],
             [
              0.5555555555555556,
              "#d8576b"
             ],
             [
              0.6666666666666666,
              "#ed7953"
             ],
             [
              0.7777777777777778,
              "#fb9f3a"
             ],
             [
              0.8888888888888888,
              "#fdca26"
             ],
             [
              1,
              "#f0f921"
             ]
            ],
            "type": "histogram2dcontour"
           }
          ],
          "mesh3d": [
           {
            "colorbar": {
             "outlinewidth": 0,
             "ticks": ""
            },
            "type": "mesh3d"
           }
          ],
          "parcoords": [
           {
            "line": {
             "colorbar": {
              "outlinewidth": 0,
              "ticks": ""
             }
            },
            "type": "parcoords"
           }
          ],
          "pie": [
           {
            "automargin": true,
            "type": "pie"
           }
          ],
          "scatter": [
           {
            "marker": {
             "colorbar": {
              "outlinewidth": 0,
              "ticks": ""
             }
            },
            "type": "scatter"
           }
          ],
          "scatter3d": [
           {
            "line": {
             "colorbar": {
              "outlinewidth": 0,
              "ticks": ""
             }
            },
            "marker": {
             "colorbar": {
              "outlinewidth": 0,
              "ticks": ""
             }
            },
            "type": "scatter3d"
           }
          ],
          "scattercarpet": [
           {
            "marker": {
             "colorbar": {
              "outlinewidth": 0,
              "ticks": ""
             }
            },
            "type": "scattercarpet"
           }
          ],
          "scattergeo": [
           {
            "marker": {
             "colorbar": {
              "outlinewidth": 0,
              "ticks": ""
             }
            },
            "type": "scattergeo"
           }
          ],
          "scattergl": [
           {
            "marker": {
             "colorbar": {
              "outlinewidth": 0,
              "ticks": ""
             }
            },
            "type": "scattergl"
           }
          ],
          "scattermapbox": [
           {
            "marker": {
             "colorbar": {
              "outlinewidth": 0,
              "ticks": ""
             }
            },
            "type": "scattermapbox"
           }
          ],
          "scatterpolar": [
           {
            "marker": {
             "colorbar": {
              "outlinewidth": 0,
              "ticks": ""
             }
            },
            "type": "scatterpolar"
           }
          ],
          "scatterpolargl": [
           {
            "marker": {
             "colorbar": {
              "outlinewidth": 0,
              "ticks": ""
             }
            },
            "type": "scatterpolargl"
           }
          ],
          "scatterternary": [
           {
            "marker": {
             "colorbar": {
              "outlinewidth": 0,
              "ticks": ""
             }
            },
            "type": "scatterternary"
           }
          ],
          "surface": [
           {
            "colorbar": {
             "outlinewidth": 0,
             "ticks": ""
            },
            "colorscale": [
             [
              0,
              "#0d0887"
             ],
             [
              0.1111111111111111,
              "#46039f"
             ],
             [
              0.2222222222222222,
              "#7201a8"
             ],
             [
              0.3333333333333333,
              "#9c179e"
             ],
             [
              0.4444444444444444,
              "#bd3786"
             ],
             [
              0.5555555555555556,
              "#d8576b"
             ],
             [
              0.6666666666666666,
              "#ed7953"
             ],
             [
              0.7777777777777778,
              "#fb9f3a"
             ],
             [
              0.8888888888888888,
              "#fdca26"
             ],
             [
              1,
              "#f0f921"
             ]
            ],
            "type": "surface"
           }
          ],
          "table": [
           {
            "cells": {
             "fill": {
              "color": "#EBF0F8"
             },
             "line": {
              "color": "white"
             }
            },
            "header": {
             "fill": {
              "color": "#C8D4E3"
             },
             "line": {
              "color": "white"
             }
            },
            "type": "table"
           }
          ]
         },
         "layout": {
          "annotationdefaults": {
           "arrowcolor": "#2a3f5f",
           "arrowhead": 0,
           "arrowwidth": 1
          },
          "coloraxis": {
           "colorbar": {
            "outlinewidth": 0,
            "ticks": ""
           }
          },
          "colorscale": {
           "diverging": [
            [
             0,
             "#8e0152"
            ],
            [
             0.1,
             "#c51b7d"
            ],
            [
             0.2,
             "#de77ae"
            ],
            [
             0.3,
             "#f1b6da"
            ],
            [
             0.4,
             "#fde0ef"
            ],
            [
             0.5,
             "#f7f7f7"
            ],
            [
             0.6,
             "#e6f5d0"
            ],
            [
             0.7,
             "#b8e186"
            ],
            [
             0.8,
             "#7fbc41"
            ],
            [
             0.9,
             "#4d9221"
            ],
            [
             1,
             "#276419"
            ]
           ],
           "sequential": [
            [
             0,
             "#0d0887"
            ],
            [
             0.1111111111111111,
             "#46039f"
            ],
            [
             0.2222222222222222,
             "#7201a8"
            ],
            [
             0.3333333333333333,
             "#9c179e"
            ],
            [
             0.4444444444444444,
             "#bd3786"
            ],
            [
             0.5555555555555556,
             "#d8576b"
            ],
            [
             0.6666666666666666,
             "#ed7953"
            ],
            [
             0.7777777777777778,
             "#fb9f3a"
            ],
            [
             0.8888888888888888,
             "#fdca26"
            ],
            [
             1,
             "#f0f921"
            ]
           ],
           "sequentialminus": [
            [
             0,
             "#0d0887"
            ],
            [
             0.1111111111111111,
             "#46039f"
            ],
            [
             0.2222222222222222,
             "#7201a8"
            ],
            [
             0.3333333333333333,
             "#9c179e"
            ],
            [
             0.4444444444444444,
             "#bd3786"
            ],
            [
             0.5555555555555556,
             "#d8576b"
            ],
            [
             0.6666666666666666,
             "#ed7953"
            ],
            [
             0.7777777777777778,
             "#fb9f3a"
            ],
            [
             0.8888888888888888,
             "#fdca26"
            ],
            [
             1,
             "#f0f921"
            ]
           ]
          },
          "colorway": [
           "#636efa",
           "#EF553B",
           "#00cc96",
           "#ab63fa",
           "#FFA15A",
           "#19d3f3",
           "#FF6692",
           "#B6E880",
           "#FF97FF",
           "#FECB52"
          ],
          "font": {
           "color": "#2a3f5f"
          },
          "geo": {
           "bgcolor": "white",
           "lakecolor": "white",
           "landcolor": "#E5ECF6",
           "showlakes": true,
           "showland": true,
           "subunitcolor": "white"
          },
          "hoverlabel": {
           "align": "left"
          },
          "hovermode": "closest",
          "mapbox": {
           "style": "light"
          },
          "paper_bgcolor": "white",
          "plot_bgcolor": "#E5ECF6",
          "polar": {
           "angularaxis": {
            "gridcolor": "white",
            "linecolor": "white",
            "ticks": ""
           },
           "bgcolor": "#E5ECF6",
           "radialaxis": {
            "gridcolor": "white",
            "linecolor": "white",
            "ticks": ""
           }
          },
          "scene": {
           "xaxis": {
            "backgroundcolor": "#E5ECF6",
            "gridcolor": "white",
            "gridwidth": 2,
            "linecolor": "white",
            "showbackground": true,
            "ticks": "",
            "zerolinecolor": "white"
           },
           "yaxis": {
            "backgroundcolor": "#E5ECF6",
            "gridcolor": "white",
            "gridwidth": 2,
            "linecolor": "white",
            "showbackground": true,
            "ticks": "",
            "zerolinecolor": "white"
           },
           "zaxis": {
            "backgroundcolor": "#E5ECF6",
            "gridcolor": "white",
            "gridwidth": 2,
            "linecolor": "white",
            "showbackground": true,
            "ticks": "",
            "zerolinecolor": "white"
           }
          },
          "shapedefaults": {
           "line": {
            "color": "#2a3f5f"
           }
          },
          "ternary": {
           "aaxis": {
            "gridcolor": "white",
            "linecolor": "white",
            "ticks": ""
           },
           "baxis": {
            "gridcolor": "white",
            "linecolor": "white",
            "ticks": ""
           },
           "bgcolor": "#E5ECF6",
           "caxis": {
            "gridcolor": "white",
            "linecolor": "white",
            "ticks": ""
           }
          },
          "title": {
           "x": 0.05
          },
          "xaxis": {
           "automargin": true,
           "gridcolor": "white",
           "linecolor": "white",
           "ticks": "",
           "title": {
            "standoff": 15
           },
           "zerolinecolor": "white",
           "zerolinewidth": 2
          },
          "yaxis": {
           "automargin": true,
           "gridcolor": "white",
           "linecolor": "white",
           "ticks": "",
           "title": {
            "standoff": 15
           },
           "zerolinecolor": "white",
           "zerolinewidth": 2
          }
         }
        }
       }
      },
      "text/html": [
       "<div>                            <div id=\"5d8b7282-4228-4b2f-997d-8f18e2a85051\" class=\"plotly-graph-div\" style=\"height:525px; width:100%;\"></div>            <script type=\"text/javascript\">                require([\"plotly\"], function(Plotly) {                    window.PLOTLYENV=window.PLOTLYENV || {};                                    if (document.getElementById(\"5d8b7282-4228-4b2f-997d-8f18e2a85051\")) {                    Plotly.newPlot(                        \"5d8b7282-4228-4b2f-997d-8f18e2a85051\",                        [{\"customdata\": [[\"SPAIN\", -4.03, 37.36, 2.8], [\"SPAIN\", -3.25, 37.89, 2.0], [\"CANARY ISLANDS, SPAIN REGION\", -16.22, 28.8, 2.3], [\"SPAIN\", -7.69, 42.28, 2.1], [\"CANARY ISLANDS, SPAIN REGION\", -16.07, 29.19, 2.6], [\"SPAIN\", -7.22, 42.78, 2.6], [\"SPAIN\", -0.28, 39.39, 2.3], [\"CANARY ISLANDS, SPAIN REGION\", -18.1, 27.97, 2.7], [\"SPAIN\", -3.86, 37.86, 2.0], [\"SPAIN\", -3.23, 37.89, 2.4], [\"CANARY ISLANDS, SPAIN REGION\", -16.25, 28.1, 2.1], [\"SPAIN\", -3.89, 37.9, 2.5], [\"SPAIN\", -3.84, 37.89, 2.3], [\"CANARY ISLANDS, SPAIN REGION\", -15.24, 28.3, 2.6], [\"SPAIN\", -1.54, 39.66, 2.4], [\"CANARY ISLANDS, SPAIN REGION\", -16.26, 28.11, 2.0], [\"SPAIN\", -0.99, 40.47, 2.0], [\"SPAIN\", -3.23, 37.91, 2.2], [\"SPAIN\", -8.02, 42.44, 2.9], [\"SPAIN\", 0.99, 40.65, 2.2], [\"SPAIN\", -3.25, 37.91, 2.5], [\"SPAIN\", -3.72, 37.22, 2.2], [\"SPAIN\", -8.56, 42.36, 2.1], [\"CANARY ISLANDS, SPAIN REGION\", -18.46, 28.66, 2.4], [\"CANARY ISLANDS, SPAIN REGION\", -16.12, 28.08, 2.3], [\"CANARY ISLANDS, SPAIN REGION\", -18.24, 27.67, 2.1], [\"CANARY ISLANDS, SPAIN REGION\", -18.1, 27.64, 2.4], [\"SPAIN\", -2.98, 40.35, 2.1], [\"SPAIN\", -6.41, 39.74, 2.1], [\"SPAIN\", -3.22, 37.89, 2.0], [\"SPAIN\", -3.24, 37.9, 2.0], [\"SPAIN\", -3.33, 37.98, 2.4], [\"SPAIN\", -8.66, 42.21, 2.2], [\"SPAIN\", -3.32, 37.96, 2.1], [\"SPAIN\", -3.33, 37.98, 2.4], [\"SPAIN\", -3.83, 37.01, 2.6], [\"SPAIN\", -0.21, 38.91, 2.2], [\"SPAIN\", -3.32, 37.96, 2.1], [\"SPAIN\", -3.32, 37.97, 2.3], [\"CANARY ISLANDS, SPAIN REGION\", -16.83, 28.14, 2.1], [\"SPAIN\", -6.51, 43.12, 2.6], [\"CANARY ISLANDS, SPAIN REGION\", -15.18, 27.58, 2.6], [\"CANARY ISLANDS, SPAIN REGION\", -18.19, 28.58, 2.1], [\"CANARY ISLANDS, SPAIN REGION\", -17.88, 28.57, 2.0], [\"CANARY ISLANDS, SPAIN REGION\", -17.72, 28.54, 2.1], [\"CANARY ISLANDS, SPAIN REGION\", -18.26, 27.76, 2.6], [\"SPAIN\", -3.22, 37.91, 2.1], [\"SPAIN\", -3.25, 37.89, 2.7], [\"SPAIN\", -0.58, 40.02, 2.0], [\"SPAIN\", -3.26, 37.88, 3.2], [\"SPAIN\", -8.46, 42.13, 2.1], [\"CANARY ISLANDS, SPAIN REGION\", -16.19, 28.16, 2.9], [\"SPAIN\", -0.56, 40.02, 2.1], [\"SPAIN\", -0.51, 39.22, 2.4], [\"CANARY ISLANDS, SPAIN REGION\", -15.23, 27.92, 2.1], [\"SPAIN\", -3.84, 37.08, 2.1], [\"SPAIN\", -3.22, 37.92, 2.1], [\"CANARY ISLANDS, SPAIN REGION\", -16.26, 28.02, 2.1], [\"CANARY ISLANDS, SPAIN REGION\", -16.22, 28.14, 2.1], [\"BALEARIC ISLANDS, SPAIN\", 1.05, 40.83, 2.0], [\"SPAIN\", -2.86, 40.41, 2.4], [\"SPAIN\", -3.25, 37.9, 2.1], [\"CANARY ISLANDS, SPAIN REGION\", -15.25, 27.76, 2.2], [\"SPAIN\", -8.1, 42.65, 2.2], [\"CANARY ISLANDS, SPAIN REGION\", -16.24, 28.11, 2.1], [\"SPAIN\", -3.72, 37.42, 2.2], [\"CANARY ISLANDS, SPAIN REGION\", -16.32, 28.06, 2.0], [\"SPAIN\", -7.24, 42.15, 2.7], [\"SPAIN\", -7.96, 42.65, 2.0], [\"CANARY ISLANDS, SPAIN REGION\", -14.68, 28.94, 2.6], [\"SPAIN\", -5.59, 43.36, 2.1], [\"CANARY ISLANDS, SPAIN REGION\", -18.1, 27.65, 2.4], [\"SPAIN\", -1.88, 41.08, 2.5], [\"SPAIN\", -6.57, 43.1, 2.1], [\"CANARY ISLANDS, SPAIN REGION\", -17.99, 27.69, 2.0], [\"SPAIN\", 2.76, 41.85, 2.0], [\"CANARY ISLANDS, SPAIN REGION\", -16.19, 28.11, 2.0], [\"SPAIN\", -4.08, 38.43, 2.7], [\"CANARY ISLANDS, SPAIN REGION\", -18.0, 27.69, 2.3], [\"SPAIN\", -7.81, 42.13, 2.2], [\"SPAIN\", -9.35, 42.61, 2.1], [\"SPAIN\", -5.34, 37.06, 2.3], [\"CANARY ISLANDS, SPAIN REGION\", -15.37, 27.88, 2.2], [\"SPAIN\", -8.53, 42.94, 2.6], [\"CANARY ISLANDS, SPAIN REGION\", -18.2, 27.73, 2.7], [\"CANARY ISLANDS, SPAIN REGION\", -18.21, 27.77, 2.7], [\"CANARY ISLANDS, SPAIN REGION\", -15.32, 28.28, 2.3], [\"SPAIN\", -0.93, 37.5, 2.1], [\"CANARY ISLANDS, SPAIN REGION\", -14.09, 28.52, 2.6], [\"CANARY ISLANDS, SPAIN REGION\", -17.6, 29.12, 2.5], [\"CANARY ISLANDS, SPAIN REGION\", -18.87, 28.71, 2.8], [\"SPAIN\", -3.6, 37.51, 2.0], [\"CANARY ISLANDS, SPAIN REGION\", -15.02, 28.49, 2.4], [\"CANARY ISLANDS, SPAIN REGION\", -18.09, 27.67, 2.3], [\"SPAIN\", -3.68, 37.69, 2.3], [\"CANARY ISLANDS, SPAIN REGION\", -17.12, 27.65, 2.5], [\"CANARY ISLANDS, SPAIN REGION\", -18.06, 27.71, 2.5], [\"SPAIN\", -3.23, 38.14, 2.0], [\"CANARY ISLANDS, SPAIN REGION\", -18.26, 27.77, 2.3], [\"SPAIN\", -4.39, 37.73, 2.3], [\"SPAIN\", -1.74, 37.35, 2.1], [\"CANARY ISLANDS, SPAIN REGION\", -13.98, 28.06, 2.2], [\"SPAIN\", -0.12, 38.09, 2.0], [\"CANARY ISLANDS, SPAIN REGION\", -17.94, 27.48, 2.6], [\"SPAIN\", -3.82, 37.36, 2.3], [\"SPAIN\", -2.94, 39.12, 2.3], [\"SPAIN\", -5.23, 37.08, 2.0], [\"SPAIN\", 0.76, 40.14, 2.1], [\"SPAIN\", -1.5, 37.61, 2.0], [\"SPAIN\", -0.6, 38.31, 2.1], [\"CANARY ISLANDS, SPAIN REGION\", -14.68, 29.42, 2.5], [\"SPAIN\", -0.02, 37.95, 3.6], [\"SPAIN\", 3.71, 41.93, 3.7], [\"CANARY ISLANDS, SPAIN REGION\", -14.46, 29.17, 2.4], [\"CANARY ISLANDS, SPAIN REGION\", -16.42, 30.09, 3.0], [\"SPAIN\", -1.9, 38.45, 2.0], [\"SPAIN\", -3.31, 38.94, 2.0], [\"SPAIN\", -5.31, 37.01, 2.1], [\"CANARY ISLANDS, SPAIN REGION\", -18.03, 27.65, 2.1], [\"SPAIN\", -0.37, 40.48, 2.0], [\"SPAIN\", 2.53, 41.84, 3.1], [\"CANARY ISLANDS, SPAIN REGION\", -15.44, 28.82, 2.4], [\"CANARY ISLANDS, SPAIN REGION\", -17.04, 29.01, 2.5], [\"SPAIN\", -7.24, 42.82, 2.4], [\"SPAIN\", -7.22, 42.82, 2.3], [\"SPAIN\", -7.22, 42.82, 2.0], [\"SPAIN\", 0.02, 39.36, 2.0], [\"SPAIN\", -5.04, 42.91, 2.3], [\"SPAIN\", -5.03, 42.92, 2.1], [\"SPAIN\", -3.31, 37.79, 2.2], [\"CANARY ISLANDS, SPAIN REGION\", -18.31, 27.74, 2.3], [\"SPAIN\", -3.23, 39.87, 2.3], [\"CANARY ISLANDS, SPAIN REGION\", -18.23, 27.71, 3.0], [\"CANARY ISLANDS, SPAIN REGION\", -18.26, 27.75, 2.6], [\"CANARY ISLANDS, SPAIN REGION\", -18.26, 27.72, 2.1], [\"CANARY ISLANDS, SPAIN REGION\", -18.04, 27.9, 3.2], [\"CANARY ISLANDS, SPAIN REGION\", -18.19, 27.7, 2.7], [\"CANARY ISLANDS, SPAIN REGION\", -15.26, 28.13, 2.5], [\"CANARY ISLANDS, SPAIN REGION\", -17.75, 28.62, 2.4], [\"SPAIN\", -8.03, 42.43, 2.1], [\"SPAIN\", -6.31, 42.55, 2.0], [\"SPAIN\", -4.21, 37.51, 2.1], [\"CANARY ISLANDS, SPAIN REGION\", -18.15, 27.83, 2.1], [\"SPAIN\", -1.08, 40.49, 2.2], [\"SPAIN\", -1.15, 39.67, 2.2], [\"CANARY ISLANDS, SPAIN REGION\", -16.51, 28.41, 2.0], [\"CANARY ISLANDS, SPAIN REGION\", -15.72, 27.92, 2.1], [\"CANARY ISLANDS, SPAIN REGION\", -15.27, 27.78, 3.0], [\"CANARY ISLANDS, SPAIN REGION\", -16.69, 29.61, 2.7], [\"SPAIN\", 3.09, 41.73, 2.4], [\"SPAIN\", -0.61, 39.16, 2.3], [\"SPAIN\", -7.43, 43.36, 2.1], [\"SPAIN\", 0.17, 40.2, 2.0], [\"SPAIN\", -2.99, 39.33, 2.5], [\"SPAIN\", -2.98, 39.34, 2.7], [\"CANARY ISLANDS, SPAIN REGION\", -17.97, 27.6, 2.8], [\"CANARY ISLANDS, SPAIN REGION\", -15.01, 28.18, 2.2], [\"CANARY ISLANDS, SPAIN REGION\", -18.09, 28.58, 2.3], [\"SPAIN\", -0.56, 39.12, 3.0], [\"SPAIN\", -0.6, 39.14, 2.9], [\"SPAIN\", -0.49, 38.96, 2.2], [\"SPAIN\", -0.48, 38.96, 2.7], [\"SPAIN\", -1.13, 37.87, 2.0], [\"SPAIN\", -3.59, 37.03, 2.0], [\"SPAIN\", -3.54, 37.11, 2.1], [\"SPAIN\", -7.09, 42.98, 2.0], [\"SPAIN\", -3.63, 37.08, 2.5], [\"SPAIN\", -1.6, 38.44, 2.0], [\"CANARY ISLANDS, SPAIN REGION\", -17.81, 28.54, 2.0], [\"CANARY ISLANDS, SPAIN REGION\", -16.18, 28.2, 2.1], [\"SPAIN\", -4.07, 37.41, 2.0], [\"CANARY ISLANDS, SPAIN REGION\", -17.8, 28.53, 2.0], [\"CANARY ISLANDS, SPAIN REGION\", -17.93, 28.48, 2.3], [\"CANARY ISLANDS, SPAIN REGION\", -16.22, 28.09, 2.3]], \"geo\": \"geo\", \"hovertemplate\": \"size=%{marker.size}<br>Signed Latitude=%{customdata[2]}<br>Signed Longitude=%{customdata[1]}<br>Region=%{customdata[0]}<br>Magnitude=%{customdata[3]}<extra></extra>\", \"lat\": [37.36, 37.89, 28.8, 42.28, 29.19, 42.78, 39.39, 27.97, 37.86, 37.89, 28.1, 37.9, 37.89, 28.3, 39.66, 28.11, 40.47, 37.91, 42.44, 40.65, 37.91, 37.22, 42.36, 28.66, 28.08, 27.67, 27.64, 40.35, 39.74, 37.89, 37.9, 37.98, 42.21, 37.96, 37.98, 37.01, 38.91, 37.96, 37.97, 28.14, 43.12, 27.58, 28.58, 28.57, 28.54, 27.76, 37.91, 37.89, 40.02, 37.88, 42.13, 28.16, 40.02, 39.22, 27.92, 37.08, 37.92, 28.02, 28.14, 40.83, 40.41, 37.9, 27.76, 42.65, 28.11, 37.42, 28.06, 42.15, 42.65, 28.94, 43.36, 27.65, 41.08, 43.1, 27.69, 41.85, 28.11, 38.43, 27.69, 42.13, 42.61, 37.06, 27.88, 42.94, 27.73, 27.77, 28.28, 37.5, 28.52, 29.12, 28.71, 37.51, 28.49, 27.67, 37.69, 27.65, 27.71, 38.14, 27.77, 37.73, 37.35, 28.06, 38.09, 27.48, 37.36, 39.12, 37.08, 40.14, 37.61, 38.31, 29.42, 37.95, 41.93, 29.17, 30.09, 38.45, 38.94, 37.01, 27.65, 40.48, 41.84, 28.82, 29.01, 42.82, 42.82, 42.82, 39.36, 42.91, 42.92, 37.79, 27.74, 39.87, 27.71, 27.75, 27.72, 27.9, 27.7, 28.13, 28.62, 42.43, 42.55, 37.51, 27.83, 40.49, 39.67, 28.41, 27.92, 27.78, 29.61, 41.73, 39.16, 43.36, 40.2, 39.33, 39.34, 27.6, 28.18, 28.58, 39.12, 39.14, 38.96, 38.96, 37.87, 37.03, 37.11, 42.98, 37.08, 38.44, 28.54, 28.2, 37.41, 28.53, 28.48, 28.09], \"legendgroup\": \"\", \"lon\": [-4.03, -3.25, -16.22, -7.69, -16.07, -7.22, -0.28, -18.1, -3.86, -3.23, -16.25, -3.89, -3.84, -15.24, -1.54, -16.26, -0.99, -3.23, -8.02, 0.99, -3.25, -3.72, -8.56, -18.46, -16.12, -18.24, -18.1, -2.98, -6.41, -3.22, -3.24, -3.33, -8.66, -3.32, -3.33, -3.83, -0.21, -3.32, -3.32, -16.83, -6.51, -15.18, -18.19, -17.88, -17.72, -18.26, -3.22, -3.25, -0.58, -3.26, -8.46, -16.19, -0.56, -0.51, -15.23, -3.84, -3.22, -16.26, -16.22, 1.05, -2.86, -3.25, -15.25, -8.1, -16.24, -3.72, -16.32, -7.24, -7.96, -14.68, -5.59, -18.1, -1.88, -6.57, -17.99, 2.76, -16.19, -4.08, -18.0, -7.81, -9.35, -5.34, -15.37, -8.53, -18.2, -18.21, -15.32, -0.93, -14.09, -17.6, -18.87, -3.6, -15.02, -18.09, -3.68, -17.12, -18.06, -3.23, -18.26, -4.39, -1.74, -13.98, -0.12, -17.94, -3.82, -2.94, -5.23, 0.76, -1.5, -0.6, -14.68, -0.02, 3.71, -14.46, -16.42, -1.9, -3.31, -5.31, -18.03, -0.37, 2.53, -15.44, -17.04, -7.24, -7.22, -7.22, 0.02, -5.04, -5.03, -3.31, -18.31, -3.23, -18.23, -18.26, -18.26, -18.04, -18.19, -15.26, -17.75, -8.03, -6.31, -4.21, -18.15, -1.08, -1.15, -16.51, -15.72, -15.27, -16.69, 3.09, -0.61, -7.43, 0.17, -2.99, -2.98, -17.97, -15.01, -18.09, -0.56, -0.6, -0.49, -0.48, -1.13, -3.59, -3.54, -7.09, -3.63, -1.6, -17.81, -16.18, -4.07, -17.8, -17.93, -16.22], \"marker\": {\"color\": \"#636efa\", \"size\": [16.136841736657672, 7.290000000000001, 9.820569140064718, 8.051260985476235, 13.229571774319822, 13.229571774319822, 9.820569140064718, 14.611074771075279, 7.290000000000001, 10.846085757554864, 8.051260985476235, 11.978692332637985, 9.820569140064718, 13.229571774319822, 10.846085757554864, 7.290000000000001, 7.290000000000001, 8.892016935013956, 17.821937490144922, 8.892016935013956, 11.978692332637985, 8.892016935013956, 8.051260985476235, 10.846085757554864, 9.820569140064718, 8.051260985476235, 10.846085757554864, 8.051260985476235, 8.051260985476235, 7.290000000000001, 7.290000000000001, 10.846085757554864, 8.892016935013956, 8.051260985476235, 10.846085757554864, 13.229571774319822, 8.892016935013956, 8.051260985476235, 9.820569140064718, 8.051260985476235, 13.229571774319822, 13.229571774319822, 8.051260985476235, 7.290000000000001, 8.051260985476235, 13.229571774319822, 8.051260985476235, 14.611074771075279, 7.290000000000001, 24.008445724537683, 8.051260985476235, 17.821937490144922, 8.051260985476235, 10.846085757554864, 8.051260985476235, 8.051260985476235, 8.051260985476235, 8.051260985476235, 8.051260985476235, 7.290000000000001, 10.846085757554864, 8.051260985476235, 8.892016935013956, 8.892016935013956, 8.051260985476235, 8.892016935013956, 7.290000000000001, 14.611074771075279, 7.290000000000001, 13.229571774319822, 8.051260985476235, 10.846085757554864, 11.978692332637985, 8.051260985476235, 7.290000000000001, 7.290000000000001, 7.290000000000001, 14.611074771075279, 9.820569140064718, 8.892016935013956, 8.051260985476235, 9.820569140064718, 8.892016935013956, 13.229571774319822, 14.611074771075279, 14.611074771075279, 9.820569140064718, 8.051260985476235, 13.229571774319822, 11.978692332637985, 16.136841736657672, 7.290000000000001, 10.846085757554864, 9.820569140064718, 9.820569140064718, 11.978692332637985, 11.978692332637985, 7.290000000000001, 9.820569140064718, 9.820569140064718, 8.051260985476235, 8.892016935013956, 7.290000000000001, 13.229571774319822, 9.820569140064718, 9.820569140064718, 7.290000000000001, 8.051260985476235, 7.290000000000001, 8.051260985476235, 11.978692332637985, 35.719843790663525, 39.44990188190325, 10.846085757554864, 19.683000000000003, 7.290000000000001, 7.290000000000001, 8.051260985476235, 8.051260985476235, 7.290000000000001, 21.738404660785836, 10.846085757554864, 11.978692332637985, 10.846085757554864, 9.820569140064718, 7.290000000000001, 7.290000000000001, 9.820569140064718, 8.051260985476235, 8.892016935013956, 9.820569140064718, 9.820569140064718, 19.683000000000003, 13.229571774319822, 8.051260985476235, 24.008445724537683, 14.611074771075279, 11.978692332637985, 10.846085757554864, 8.051260985476235, 7.290000000000001, 8.051260985476235, 8.051260985476235, 8.892016935013956, 8.892016935013956, 7.290000000000001, 8.051260985476235, 19.683000000000003, 14.611074771075279, 10.846085757554864, 9.820569140064718, 8.051260985476235, 7.290000000000001, 11.978692332637985, 14.611074771075279, 16.136841736657672, 8.892016935013956, 9.820569140064718, 19.683000000000003, 17.821937490144922, 8.892016935013956, 14.611074771075279, 7.290000000000001, 7.290000000000001, 8.051260985476235, 7.290000000000001, 11.978692332637985, 7.290000000000001, 7.290000000000001, 8.051260985476235, 7.290000000000001, 7.290000000000001, 9.820569140064718, 9.820569140064718], \"sizemode\": \"area\", \"sizeref\": 0.09862475470475812}, \"name\": \"\", \"showlegend\": false, \"type\": \"scattergeo\"}],                        {\"geo\": {\"center\": {}, \"domain\": {\"x\": [0.0, 1.0], \"y\": [0.0, 1.0]}, \"projection\": {\"type\": \"orthographic\"}}, \"legend\": {\"itemsizing\": \"constant\", \"tracegroupgap\": 0}, \"margin\": {\"t\": 60}, \"template\": {\"data\": {\"bar\": [{\"error_x\": {\"color\": \"#2a3f5f\"}, \"error_y\": {\"color\": \"#2a3f5f\"}, \"marker\": {\"line\": {\"color\": \"#E5ECF6\", \"width\": 0.5}}, \"type\": \"bar\"}], \"barpolar\": [{\"marker\": {\"line\": {\"color\": \"#E5ECF6\", \"width\": 0.5}}, \"type\": \"barpolar\"}], \"carpet\": [{\"aaxis\": {\"endlinecolor\": \"#2a3f5f\", \"gridcolor\": \"white\", \"linecolor\": \"white\", \"minorgridcolor\": \"white\", \"startlinecolor\": \"#2a3f5f\"}, \"baxis\": {\"endlinecolor\": \"#2a3f5f\", \"gridcolor\": \"white\", \"linecolor\": \"white\", \"minorgridcolor\": \"white\", \"startlinecolor\": \"#2a3f5f\"}, \"type\": \"carpet\"}], \"choropleth\": [{\"colorbar\": {\"outlinewidth\": 0, \"ticks\": \"\"}, \"type\": \"choropleth\"}], \"contour\": [{\"colorbar\": {\"outlinewidth\": 0, \"ticks\": \"\"}, \"colorscale\": [[0.0, \"#0d0887\"], [0.1111111111111111, \"#46039f\"], [0.2222222222222222, \"#7201a8\"], [0.3333333333333333, \"#9c179e\"], [0.4444444444444444, \"#bd3786\"], [0.5555555555555556, \"#d8576b\"], [0.6666666666666666, \"#ed7953\"], [0.7777777777777778, \"#fb9f3a\"], [0.8888888888888888, \"#fdca26\"], [1.0, \"#f0f921\"]], \"type\": \"contour\"}], \"contourcarpet\": [{\"colorbar\": {\"outlinewidth\": 0, \"ticks\": \"\"}, \"type\": \"contourcarpet\"}], \"heatmap\": [{\"colorbar\": {\"outlinewidth\": 0, \"ticks\": \"\"}, \"colorscale\": [[0.0, \"#0d0887\"], [0.1111111111111111, \"#46039f\"], [0.2222222222222222, \"#7201a8\"], [0.3333333333333333, \"#9c179e\"], [0.4444444444444444, \"#bd3786\"], [0.5555555555555556, \"#d8576b\"], [0.6666666666666666, \"#ed7953\"], [0.7777777777777778, \"#fb9f3a\"], [0.8888888888888888, \"#fdca26\"], [1.0, \"#f0f921\"]], \"type\": \"heatmap\"}], \"heatmapgl\": [{\"colorbar\": {\"outlinewidth\": 0, \"ticks\": \"\"}, \"colorscale\": [[0.0, \"#0d0887\"], [0.1111111111111111, \"#46039f\"], [0.2222222222222222, \"#7201a8\"], [0.3333333333333333, \"#9c179e\"], [0.4444444444444444, \"#bd3786\"], [0.5555555555555556, \"#d8576b\"], [0.6666666666666666, \"#ed7953\"], [0.7777777777777778, \"#fb9f3a\"], [0.8888888888888888, \"#fdca26\"], [1.0, \"#f0f921\"]], \"type\": \"heatmapgl\"}], \"histogram\": [{\"marker\": {\"colorbar\": {\"outlinewidth\": 0, \"ticks\": \"\"}}, \"type\": \"histogram\"}], \"histogram2d\": [{\"colorbar\": {\"outlinewidth\": 0, \"ticks\": \"\"}, \"colorscale\": [[0.0, \"#0d0887\"], [0.1111111111111111, \"#46039f\"], [0.2222222222222222, \"#7201a8\"], [0.3333333333333333, \"#9c179e\"], [0.4444444444444444, \"#bd3786\"], [0.5555555555555556, \"#d8576b\"], [0.6666666666666666, \"#ed7953\"], [0.7777777777777778, \"#fb9f3a\"], [0.8888888888888888, \"#fdca26\"], [1.0, \"#f0f921\"]], \"type\": \"histogram2d\"}], \"histogram2dcontour\": [{\"colorbar\": {\"outlinewidth\": 0, \"ticks\": \"\"}, \"colorscale\": [[0.0, \"#0d0887\"], [0.1111111111111111, \"#46039f\"], [0.2222222222222222, \"#7201a8\"], [0.3333333333333333, \"#9c179e\"], [0.4444444444444444, \"#bd3786\"], [0.5555555555555556, \"#d8576b\"], [0.6666666666666666, \"#ed7953\"], [0.7777777777777778, \"#fb9f3a\"], [0.8888888888888888, \"#fdca26\"], [1.0, \"#f0f921\"]], \"type\": \"histogram2dcontour\"}], \"mesh3d\": [{\"colorbar\": {\"outlinewidth\": 0, \"ticks\": \"\"}, \"type\": \"mesh3d\"}], \"parcoords\": [{\"line\": {\"colorbar\": {\"outlinewidth\": 0, \"ticks\": \"\"}}, \"type\": \"parcoords\"}], \"pie\": [{\"automargin\": true, \"type\": \"pie\"}], \"scatter\": [{\"marker\": {\"colorbar\": {\"outlinewidth\": 0, \"ticks\": \"\"}}, \"type\": \"scatter\"}], \"scatter3d\": [{\"line\": {\"colorbar\": {\"outlinewidth\": 0, \"ticks\": \"\"}}, \"marker\": {\"colorbar\": {\"outlinewidth\": 0, \"ticks\": \"\"}}, \"type\": \"scatter3d\"}], \"scattercarpet\": [{\"marker\": {\"colorbar\": {\"outlinewidth\": 0, \"ticks\": \"\"}}, \"type\": \"scattercarpet\"}], \"scattergeo\": [{\"marker\": {\"colorbar\": {\"outlinewidth\": 0, \"ticks\": \"\"}}, \"type\": \"scattergeo\"}], \"scattergl\": [{\"marker\": {\"colorbar\": {\"outlinewidth\": 0, \"ticks\": \"\"}}, \"type\": \"scattergl\"}], \"scattermapbox\": [{\"marker\": {\"colorbar\": {\"outlinewidth\": 0, \"ticks\": \"\"}}, \"type\": \"scattermapbox\"}], \"scatterpolar\": [{\"marker\": {\"colorbar\": {\"outlinewidth\": 0, \"ticks\": \"\"}}, \"type\": \"scatterpolar\"}], \"scatterpolargl\": [{\"marker\": {\"colorbar\": {\"outlinewidth\": 0, \"ticks\": \"\"}}, \"type\": \"scatterpolargl\"}], \"scatterternary\": [{\"marker\": {\"colorbar\": {\"outlinewidth\": 0, \"ticks\": \"\"}}, \"type\": \"scatterternary\"}], \"surface\": [{\"colorbar\": {\"outlinewidth\": 0, \"ticks\": \"\"}, \"colorscale\": [[0.0, \"#0d0887\"], [0.1111111111111111, \"#46039f\"], [0.2222222222222222, \"#7201a8\"], [0.3333333333333333, \"#9c179e\"], [0.4444444444444444, \"#bd3786\"], [0.5555555555555556, \"#d8576b\"], [0.6666666666666666, \"#ed7953\"], [0.7777777777777778, \"#fb9f3a\"], [0.8888888888888888, \"#fdca26\"], [1.0, \"#f0f921\"]], \"type\": \"surface\"}], \"table\": [{\"cells\": {\"fill\": {\"color\": \"#EBF0F8\"}, \"line\": {\"color\": \"white\"}}, \"header\": {\"fill\": {\"color\": \"#C8D4E3\"}, \"line\": {\"color\": \"white\"}}, \"type\": \"table\"}]}, \"layout\": {\"annotationdefaults\": {\"arrowcolor\": \"#2a3f5f\", \"arrowhead\": 0, \"arrowwidth\": 1}, \"coloraxis\": {\"colorbar\": {\"outlinewidth\": 0, \"ticks\": \"\"}}, \"colorscale\": {\"diverging\": [[0, \"#8e0152\"], [0.1, \"#c51b7d\"], [0.2, \"#de77ae\"], [0.3, \"#f1b6da\"], [0.4, \"#fde0ef\"], [0.5, \"#f7f7f7\"], [0.6, \"#e6f5d0\"], [0.7, \"#b8e186\"], [0.8, \"#7fbc41\"], [0.9, \"#4d9221\"], [1, \"#276419\"]], \"sequential\": [[0.0, \"#0d0887\"], [0.1111111111111111, \"#46039f\"], [0.2222222222222222, \"#7201a8\"], [0.3333333333333333, \"#9c179e\"], [0.4444444444444444, \"#bd3786\"], [0.5555555555555556, \"#d8576b\"], [0.6666666666666666, \"#ed7953\"], [0.7777777777777778, \"#fb9f3a\"], [0.8888888888888888, \"#fdca26\"], [1.0, \"#f0f921\"]], \"sequentialminus\": [[0.0, \"#0d0887\"], [0.1111111111111111, \"#46039f\"], [0.2222222222222222, \"#7201a8\"], [0.3333333333333333, \"#9c179e\"], [0.4444444444444444, \"#bd3786\"], [0.5555555555555556, \"#d8576b\"], [0.6666666666666666, \"#ed7953\"], [0.7777777777777778, \"#fb9f3a\"], [0.8888888888888888, \"#fdca26\"], [1.0, \"#f0f921\"]]}, \"colorway\": [\"#636efa\", \"#EF553B\", \"#00cc96\", \"#ab63fa\", \"#FFA15A\", \"#19d3f3\", \"#FF6692\", \"#B6E880\", \"#FF97FF\", \"#FECB52\"], \"font\": {\"color\": \"#2a3f5f\"}, \"geo\": {\"bgcolor\": \"white\", \"lakecolor\": \"white\", \"landcolor\": \"#E5ECF6\", \"showlakes\": true, \"showland\": true, \"subunitcolor\": \"white\"}, \"hoverlabel\": {\"align\": \"left\"}, \"hovermode\": \"closest\", \"mapbox\": {\"style\": \"light\"}, \"paper_bgcolor\": \"white\", \"plot_bgcolor\": \"#E5ECF6\", \"polar\": {\"angularaxis\": {\"gridcolor\": \"white\", \"linecolor\": \"white\", \"ticks\": \"\"}, \"bgcolor\": \"#E5ECF6\", \"radialaxis\": {\"gridcolor\": \"white\", \"linecolor\": \"white\", \"ticks\": \"\"}}, \"scene\": {\"xaxis\": {\"backgroundcolor\": \"#E5ECF6\", \"gridcolor\": \"white\", \"gridwidth\": 2, \"linecolor\": \"white\", \"showbackground\": true, \"ticks\": \"\", \"zerolinecolor\": \"white\"}, \"yaxis\": {\"backgroundcolor\": \"#E5ECF6\", \"gridcolor\": \"white\", \"gridwidth\": 2, \"linecolor\": \"white\", \"showbackground\": true, \"ticks\": \"\", \"zerolinecolor\": \"white\"}, \"zaxis\": {\"backgroundcolor\": \"#E5ECF6\", \"gridcolor\": \"white\", \"gridwidth\": 2, \"linecolor\": \"white\", \"showbackground\": true, \"ticks\": \"\", \"zerolinecolor\": \"white\"}}, \"shapedefaults\": {\"line\": {\"color\": \"#2a3f5f\"}}, \"ternary\": {\"aaxis\": {\"gridcolor\": \"white\", \"linecolor\": \"white\", \"ticks\": \"\"}, \"baxis\": {\"gridcolor\": \"white\", \"linecolor\": \"white\", \"ticks\": \"\"}, \"bgcolor\": \"#E5ECF6\", \"caxis\": {\"gridcolor\": \"white\", \"linecolor\": \"white\", \"ticks\": \"\"}}, \"title\": {\"x\": 0.05}, \"xaxis\": {\"automargin\": true, \"gridcolor\": \"white\", \"linecolor\": \"white\", \"ticks\": \"\", \"title\": {\"standoff\": 15}, \"zerolinecolor\": \"white\", \"zerolinewidth\": 2}, \"yaxis\": {\"automargin\": true, \"gridcolor\": \"white\", \"linecolor\": \"white\", \"ticks\": \"\", \"title\": {\"standoff\": 15}, \"zerolinecolor\": \"white\", \"zerolinewidth\": 2}}}},                        {\"responsive\": true}                    ).then(function(){\n",
       "                            \n",
       "var gd = document.getElementById('5d8b7282-4228-4b2f-997d-8f18e2a85051');\n",
       "var x = new MutationObserver(function (mutations, observer) {{\n",
       "        var display = window.getComputedStyle(gd).display;\n",
       "        if (!display || display === 'none') {{\n",
       "            console.log([gd, 'removed!']);\n",
       "            Plotly.purge(gd);\n",
       "            observer.disconnect();\n",
       "        }}\n",
       "}});\n",
       "\n",
       "// Listen for the removal of the full notebook cells\n",
       "var notebookContainer = gd.closest('#notebook-container');\n",
       "if (notebookContainer) {{\n",
       "    x.observe(notebookContainer, {childList: true});\n",
       "}}\n",
       "\n",
       "// Listen for the clearing of the current output cell\n",
       "var outputEl = gd.closest('.output');\n",
       "if (outputEl) {{\n",
       "    x.observe(outputEl, {childList: true});\n",
       "}}\n",
       "\n",
       "                        })                };                });            </script>        </div>"
      ]
     },
     "metadata": {},
     "output_type": "display_data"
    }
   ],
   "source": [
    "file_name = 'earthquakes-spain-aug-oct-2020.csv'\n",
    "\n",
    "df = pd.read_csv(file_name, sep = \";\", engine= \"python\")\n",
    "\n",
    "\n",
    "fig = px.scatter_geo(df,\n",
    "                     lon = df['Signed Longitude'],\n",
    "                     lat = df['Signed Latitude'],\n",
    "                     hover_data = [df['Region'], df['Signed Longitude'], df['Signed Latitude'], df['Magnitude']], \n",
    "                     size = 2.7**(df['Magnitude']),\n",
    "                     projection='orthographic'\n",
    "                     )\n",
    "fig.show()"
   ]
  }
 ],
 "metadata": {
  "kernelspec": {
   "display_name": "Python 3",
   "language": "python",
   "name": "python3"
  },
  "language_info": {
   "codemirror_mode": {
    "name": "ipython",
    "version": 3
   },
   "file_extension": ".py",
   "mimetype": "text/x-python",
   "name": "python",
   "nbconvert_exporter": "python",
   "pygments_lexer": "ipython3",
   "version": "3.7.6"
  }
 },
 "nbformat": 4,
 "nbformat_minor": 4
}
